{
 "cells": [
  {
   "cell_type": "markdown",
   "id": "1ada2c93",
   "metadata": {},
   "source": [
    "# Тестовое задание\n",
    "К стажировке в М.Тех, для вакансии «Младший исследователь данных (DS)»."
   ]
  },
  {
   "cell_type": "markdown",
   "id": "7649d601",
   "metadata": {},
   "source": [
    "## Описание данных"
   ]
  },
  {
   "cell_type": "markdown",
   "id": "159f74fa",
   "metadata": {},
   "source": [
    "Руководство компании обратило внимание на то, что сотрудники старше 35 лет болеют чаще, чем более молодые сотрудники. Кроме этого, среди мужчин количество пропусков рабочих дней в связи с больничным выше, чем среди женщин. \n",
    "\n",
    "В связи с этой ситуацией, руководство организации планирует ввести дополнительные медицинские осмотры среди групп риска. "
   ]
  },
  {
   "cell_type": "markdown",
   "id": "097a68c6",
   "metadata": {},
   "source": [
    "# Критерии, которые важны заказчику:\n",
    "\n",
    "Необходимо проверить следующие гипотезы:\n",
    "- Мужчины пропускают в течение года более 2 рабочих дней (work_days) по болезни значимо чаще женщин.\n",
    "- Работники старше 35 лет (age) пропускают в течение года более 2 рабочих дней (work_days) по болезни значимо чаще своих более молодых коллег.\n",
    "\n",
    "Решение необходимо предоставить:\n",
    "- В виде jupyter notebook (с аккуратно оформленным кодом, графиками и \n",
    "описанной логикой решения).\n",
    "- В виде дашборда на Streamlit с простым функционалом: \n",
    "  - должна быть возможность загрузить .csv, в формате аналогично файлу «Статистика»\n",
    "  - должна быть возможность задать параметры age и work_days\n",
    "  - указан результат проверки гипотез\n",
    "  - указана логика получения результата (должны быть отрисованы графики распределений, указаны критерии проверки (стат. тесты, статистики, уровень значимости т.п.) "
   ]
  },
  {
   "cell_type": "markdown",
   "id": "bea3d55c",
   "metadata": {},
   "source": [
    "### Описание данных"
   ]
  },
  {
   "cell_type": "markdown",
   "id": "6f9e30b1",
   "metadata": {},
   "source": []
  },
  {
   "cell_type": "markdown",
   "id": "9b1d5394",
   "metadata": {
    "toc": true
   },
   "source": [
    "<h1>Table of Contents<span class=\"tocSkip\"></span></h1>\n",
    "<div class=\"toc\"><ul class=\"toc-item\"><li><span><a href=\"#Описание-данных\" data-toc-modified-id=\"Описание-данных-1\"><span class=\"toc-item-num\">1&nbsp;&nbsp;</span>Описание данных</a></span><ul class=\"toc-item\"><li><span><a href=\"#Описание-данных\" data-toc-modified-id=\"Описание-данных-1.1\"><span class=\"toc-item-num\">1.1&nbsp;&nbsp;</span>Описание данных</a></span></li></ul></li><li><span><a href=\"#Загрузка-и-ознакомление-с-данными\" data-toc-modified-id=\"Загрузка-и-ознакомление-с-данными-2\"><span class=\"toc-item-num\">2&nbsp;&nbsp;</span>Загрузка и ознакомление с данными</a></span><ul class=\"toc-item\"><li><span><a href=\"#Бибилиотеки\" data-toc-modified-id=\"Бибилиотеки-2.1\"><span class=\"toc-item-num\">2.1&nbsp;&nbsp;</span>Бибилиотеки</a></span></li><li><span><a href=\"#Откроем-и-изучим-файлы\" data-toc-modified-id=\"Откроем-и-изучим-файлы-2.2\"><span class=\"toc-item-num\">2.2&nbsp;&nbsp;</span>Откроем и изучим файлы</a></span><ul class=\"toc-item\"><li><span><a href=\"#Общая-информация\" data-toc-modified-id=\"Общая-информация-2.2.1\"><span class=\"toc-item-num\">2.2.1&nbsp;&nbsp;</span>Общая информация</a></span></li></ul></li><li><span><a href=\"#Вывод-по-итогу-исследования-данных\" data-toc-modified-id=\"Вывод-по-итогу-исследования-данных-2.3\"><span class=\"toc-item-num\">2.3&nbsp;&nbsp;</span>Вывод по итогу исследования данных</a></span></li></ul></li><li><span><a href=\"#Проверка-гипотез\" data-toc-modified-id=\"Проверка-гипотез-3\"><span class=\"toc-item-num\">3&nbsp;&nbsp;</span>Проверка гипотез</a></span><ul class=\"toc-item\"><li><span><a href=\"#Гипотеза-1\" data-toc-modified-id=\"Гипотеза-1-3.1\"><span class=\"toc-item-num\">3.1&nbsp;&nbsp;</span>Гипотеза 1</a></span><ul class=\"toc-item\"><li><span><a href=\"#Вывод-по-итогу-проверки-гипотезы-1\" data-toc-modified-id=\"Вывод-по-итогу-проверки-гипотезы-1-3.1.1\"><span class=\"toc-item-num\">3.1.1&nbsp;&nbsp;</span>Вывод по итогу проверки гипотезы 1</a></span></li></ul></li><li><span><a href=\"#Гипотеза-2\" data-toc-modified-id=\"Гипотеза-2-3.2\"><span class=\"toc-item-num\">3.2&nbsp;&nbsp;</span>Гипотеза 2</a></span><ul class=\"toc-item\"><li><span><a href=\"#Вывод-по-итогу-проверки-гипотезы-2\" data-toc-modified-id=\"Вывод-по-итогу-проверки-гипотезы-2-3.2.1\"><span class=\"toc-item-num\">3.2.1&nbsp;&nbsp;</span>Вывод по итогу проверки гипотезы 2</a></span></li></ul></li></ul></li><li><span><a href=\"#Итоговый-вывод\" data-toc-modified-id=\"Итоговый-вывод-4\"><span class=\"toc-item-num\">4&nbsp;&nbsp;</span>Итоговый вывод</a></span></li></ul></div>"
   ]
  },
  {
   "cell_type": "markdown",
   "id": "dff0ebdb",
   "metadata": {},
   "source": [
    "## Загрузка и ознакомление с данными"
   ]
  },
  {
   "cell_type": "markdown",
   "id": "9ee152f1",
   "metadata": {},
   "source": [
    "### Бибилиотеки"
   ]
  },
  {
   "cell_type": "code",
   "execution_count": 1,
   "id": "75c7783e",
   "metadata": {},
   "outputs": [],
   "source": [
    "# подготавливаем рабочее пространство\n",
    "# загружаем библиотеки\n",
    "import pandas as pd\n",
    "import matplotlib.pyplot as plt\n",
    "from matplotlib.pyplot import figure\n",
    "import seaborn as sns\n",
    "import numpy as np\n",
    "import statistics\n",
    "\n",
    "import re\n",
    "from io import StringIO\n",
    "\n",
    "from scipy import stats as st\n",
    "from scipy.stats import binom, norm"
   ]
  },
  {
   "cell_type": "code",
   "execution_count": 2,
   "id": "6f93f570",
   "metadata": {},
   "outputs": [],
   "source": [
    "from ydata_profiling import ProfileReport"
   ]
  },
  {
   "cell_type": "markdown",
   "id": "04e067cd",
   "metadata": {},
   "source": [
    "### Откроем и изучим файлы"
   ]
  },
  {
   "cell_type": "markdown",
   "id": "d2379c77",
   "metadata": {},
   "source": [
    "#### Общая информация"
   ]
  },
  {
   "cell_type": "code",
   "execution_count": 3,
   "id": "5e124a27",
   "metadata": {},
   "outputs": [],
   "source": [
    "try:\n",
    "    with open('М.Тех_Данные_к_ТЗ_DS.csv') as f:\n",
    "        text = re.sub(r'\"*([\\r\\n])+\"*|(?:^\"*|\"*$)|\"\"', '\\\\1', f.read())\n",
    "    fixed_text = StringIO(text)\n",
    "    \n",
    "    df = pd.read_csv(fixed_text)\n",
    "except:\n",
    "    print('Попробуем еще раз')"
   ]
  },
  {
   "cell_type": "code",
   "execution_count": 4,
   "id": "980552d8",
   "metadata": {},
   "outputs": [
    {
     "data": {
      "text/html": [
       "<style type=\"text/css\">\n",
       "#T_394b4 caption {\n",
       "  font-size: 150%;\n",
       "  font-weight: bold;\n",
       "}\n",
       "</style>\n",
       "<table id=\"T_394b4\">\n",
       "  <caption>Информация о сотрудниках</caption>\n",
       "  <thead>\n",
       "    <tr>\n",
       "      <th class=\"blank level0\" >&nbsp;</th>\n",
       "      <th id=\"T_394b4_level0_col0\" class=\"col_heading level0 col0\" >Количество больничных дней</th>\n",
       "      <th id=\"T_394b4_level0_col1\" class=\"col_heading level0 col1\" >Возраст</th>\n",
       "      <th id=\"T_394b4_level0_col2\" class=\"col_heading level0 col2\" >Пол</th>\n",
       "    </tr>\n",
       "  </thead>\n",
       "  <tbody>\n",
       "    <tr>\n",
       "      <th id=\"T_394b4_level0_row0\" class=\"row_heading level0 row0\" >0</th>\n",
       "      <td id=\"T_394b4_row0_col0\" class=\"data row0 col0\" >5</td>\n",
       "      <td id=\"T_394b4_row0_col1\" class=\"data row0 col1\" >39</td>\n",
       "      <td id=\"T_394b4_row0_col2\" class=\"data row0 col2\" >Ж</td>\n",
       "    </tr>\n",
       "    <tr>\n",
       "      <th id=\"T_394b4_level0_row1\" class=\"row_heading level0 row1\" >1</th>\n",
       "      <td id=\"T_394b4_row1_col0\" class=\"data row1 col0\" >4</td>\n",
       "      <td id=\"T_394b4_row1_col1\" class=\"data row1 col1\" >54</td>\n",
       "      <td id=\"T_394b4_row1_col2\" class=\"data row1 col2\" >М</td>\n",
       "    </tr>\n",
       "    <tr>\n",
       "      <th id=\"T_394b4_level0_row2\" class=\"row_heading level0 row2\" >2</th>\n",
       "      <td id=\"T_394b4_row2_col0\" class=\"data row2 col0\" >4</td>\n",
       "      <td id=\"T_394b4_row2_col1\" class=\"data row2 col1\" >26</td>\n",
       "      <td id=\"T_394b4_row2_col2\" class=\"data row2 col2\" >М</td>\n",
       "    </tr>\n",
       "  </tbody>\n",
       "</table>\n"
      ],
      "text/plain": [
       "<pandas.io.formats.style.Styler at 0x2125f84ae80>"
      ]
     },
     "metadata": {},
     "output_type": "display_data"
    },
    {
     "name": "stdout",
     "output_type": "stream",
     "text": [
      "Количество явных дубликатов: 72\n",
      "\n",
      "<class 'pandas.core.frame.DataFrame'>\n",
      "RangeIndex: 237 entries, 0 to 236\n",
      "Data columns (total 3 columns):\n",
      " #   Column                      Non-Null Count  Dtype \n",
      "---  ------                      --------------  ----- \n",
      " 0   Количество больничных дней  237 non-null    int64 \n",
      " 1   Возраст                     237 non-null    int64 \n",
      " 2   Пол                         237 non-null    object\n",
      "dtypes: int64(2), object(1)\n",
      "memory usage: 5.7+ KB\n"
     ]
    }
   ],
   "source": [
    "styles = [dict(selector=\"caption\", props=[(\"font-size\", \"150%\"),\n",
    "                                          (\"font-weight\", \"bold\")])]\n",
    "\n",
    "display(df.head(3).style.set_caption('Информация о сотрудниках').set_table_styles(styles))\n",
    "print(f\"Количество явных дубликатов: {df.duplicated().sum()}\\n\")\n",
    "df.info()"
   ]
  },
  {
   "cell_type": "code",
   "execution_count": 5,
   "id": "54b8f16b",
   "metadata": {},
   "outputs": [
    {
     "data": {
      "image/png": "[encoded data removed]",
      "text/plain": [
       "<Figure size 432x288 with 1 Axes>"
      ]
     },
     "metadata": {
      "needs_background": "light"
     },
     "output_type": "display_data"
    }
   ],
   "source": [
    "sns.histplot(data=df, x=\"Количество больничных дней\", color=\"skyblue\", stat='density', bins=9)\n",
    "plt.title('График распределения по количеству больничных в течение года')\n",
    "plt.ylabel('Количество сотрудников')\n",
    "plt.xlabel('Количество больничных дней')\n",
    "plt.show()"
   ]
  },
  {
   "cell_type": "code",
   "execution_count": 6,
   "id": "9d243193",
   "metadata": {},
   "outputs": [
    {
     "data": {
      "image/png": "[encoded data removed]",
      "text/plain": [
       "<Figure size 432x288 with 1 Axes>"
      ]
     },
     "metadata": {
      "needs_background": "light"
     },
     "output_type": "display_data"
    }
   ],
   "source": [
    "sns.histplot(data=df.loc[df['Пол']=='М'], x=\"Количество больничных дней\",\n",
    "             color=\"skyblue\", label=\"М\", stat='density', bins=9)\n",
    "sns.histplot(data=df.loc[df['Пол']=='Ж'], x=\"Количество больничных дней\",\n",
    "             color=\"red\", label=\"Ж\", stat='density', bins=9)\n",
    "plt.legend() \n",
    "plt.title(\"График распределения сотрудников по количеству больничных дней\")\n",
    "plt.ylabel(' ')\n",
    "plt.xlabel('Количество больничных дней')\n",
    "plt.show()"
   ]
  },
  {
   "cell_type": "code",
   "execution_count": 7,
   "id": "84455a9f",
   "metadata": {},
   "outputs": [
    {
     "data": {
      "image/png": "[encoded data removed]",
      "text/plain": [
       "<Figure size 432x288 with 1 Axes>"
      ]
     },
     "metadata": {
      "needs_background": "light"
     },
     "output_type": "display_data"
    }
   ],
   "source": [
    "sns.histplot(data=df.loc[df['Пол']=='М'], x=\"Возраст\", color=\"skyblue\", label=\"М\", stat='density', bins=10)\n",
    "sns.histplot(data=df.loc[df['Пол']=='Ж'], x=\"Возраст\", color=\"red\", label=\"Ж\", stat='density', bins=10)\n",
    "plt.legend() \n",
    "plt.title(\"График распределения сотрудников по возрасту\")\n",
    "plt.ylabel(' ')\n",
    "plt.xlabel('Возраст')\n",
    "plt.show()"
   ]
  },
  {
   "cell_type": "code",
   "execution_count": 8,
   "id": "f6665873",
   "metadata": {},
   "outputs": [
    {
     "data": {
      "image/png": "[encoded data removed]",
      "text/plain": [
       "<Figure size 432x288 with 1 Axes>"
      ]
     },
     "metadata": {},
     "output_type": "display_data"
    }
   ],
   "source": [
    "(df\n",
    " .pivot_table(index='Пол', aggfunc='count')\n",
    " .plot.pie(y='Возраст', autopct='%1.0f%%', colors=['crimson', 'skyblue'])\n",
    ")\n",
    "plt.title(\"Соотношение количества сотрудников мужского и женского пола\")\n",
    "plt.ylabel(\" \")\n",
    "plt.show()"
   ]
  },
  {
   "cell_type": "code",
   "execution_count": 9,
   "id": "7add722a",
   "metadata": {},
   "outputs": [
    {
     "data": {
      "image/png": "[encoded data removed]",
      "text/plain": [
       "<Figure size 640x400 with 2 Axes>"
      ]
     },
     "metadata": {
      "needs_background": "light"
     },
     "output_type": "display_data"
    }
   ],
   "source": [
    "INTERVAL_COLS = ['Количество больничных дней', 'Возраст']\n",
    "corr_table = df.phik_matrix(interval_cols=INTERVAL_COLS)\n",
    "\n",
    "figure(figsize=(8, 5), dpi=80)\n",
    "sns.heatmap(corr_table, annot=True, annot_kws={\"size\": 10}, cmap='coolwarm', center=0)\n",
    "plt.title('Корреляция признаков в данных')\n",
    "plt.show()"
   ]
  },
  {
   "cell_type": "markdown",
   "id": "64707448",
   "metadata": {},
   "source": [
    "### Вывод по итогу исследования данных\n"
   ]
  },
  {
   "cell_type": "markdown",
   "id": "0516023e",
   "metadata": {},
   "source": [
    "- присутствуют явные дубликаты (однако, удалять их будет не корректно, поскольку выбросы в данных отсутствуют. Будем считать наличие дубликатов при таких признаках вполне естественным);\n",
    "- пропуски отсутствуют;\n",
    "\n",
    "В распределении по половому признаку отсутствует явный дизбаланс классов.\n",
    "\n",
    "Категоризированные по половому признаку данные имеют нормальные распределения и по количеству больничных дней, и по возрасту.\n",
    "\n",
    "Корреляция в данных относительно `Количества больничных дней` практически отсутствует, будем считать ее незначительной."
   ]
  },
  {
   "cell_type": "markdown",
   "id": "b596b777",
   "metadata": {},
   "source": [
    "## Проверка гипотез"
   ]
  },
  {
   "cell_type": "code",
   "execution_count": 10,
   "id": "90e25dbd",
   "metadata": {},
   "outputs": [],
   "source": [
    "work_days = 2\n",
    "age = 35"
   ]
  },
  {
   "cell_type": "code",
   "execution_count": 11,
   "id": "8540b8e8",
   "metadata": {},
   "outputs": [],
   "source": [
    "df_hip = df.loc[df['Количество больничных дней'] >= work_days]"
   ]
  },
  {
   "cell_type": "markdown",
   "id": "f34366bb",
   "metadata": {},
   "source": [
    "### Гипотеза 1"
   ]
  },
  {
   "cell_type": "markdown",
   "id": "b125de1d",
   "metadata": {},
   "source": [
    "Мужчины пропускают в течение года более 2 рабочих дней (work_days) по болезни значимо чаще женщин.\n",
    "\n",
    "---\n",
    "\n",
    "- нулевая гипотеза - Мужчины пропускают в течение года более 2 рабочих дней по болезни столько же, сколько женщины\n",
    "- альтернативная гипотеза - Мужчины пропускают в течение года более 2 рабочих дней по болезни значимо чаще женщин.\n",
    "\n",
    "Используем метод `scipy.stats.ttest_ind()`, поскольку необходимо сравнить 2 набора данных, которые не зависят друг от друга."
   ]
  },
  {
   "cell_type": "code",
   "execution_count": 12,
   "id": "60a56638",
   "metadata": {},
   "outputs": [
    {
     "data": {
      "image/png": "[encoded data removed]",
      "text/plain": [
       "<Figure size 432x288 with 1 Axes>"
      ]
     },
     "metadata": {
      "needs_background": "light"
     },
     "output_type": "display_data"
    }
   ],
   "source": [
    "sns.histplot(data=df_hip.loc[df_hip['Пол']=='М'], x=\"Количество больничных дней\",\n",
    "             color=\"skyblue\", label=\"М\", stat='density', bins=9-work_days)\n",
    "sns.histplot(data=df_hip.loc[df_hip['Пол']=='Ж'], x=\"Количество больничных дней\",\n",
    "             color=\"red\", label=\"Ж\", stat='density', bins=9-work_days)\n",
    "plt.legend() \n",
    "plt.title(\"График распределения сотрудников по количеству больничных дней\")\n",
    "plt.ylabel(' ')\n",
    "plt.xlabel('Количество больничных дней')\n",
    "plt.show()"
   ]
  },
  {
   "cell_type": "code",
   "execution_count": 13,
   "id": "d1a5c538",
   "metadata": {},
   "outputs": [],
   "source": [
    "alpha = 0.05 # уровень статистической значимости\n",
    "\n",
    "test_m = df_hip.loc[df_hip['Пол']=='М']['Количество больничных дней']\n",
    "test_w = df_hip.loc[df_hip['Пол']=='Ж']['Количество больничных дней']\n",
    "\n",
    "results_hip_1 = st.ttest_ind(test_m, test_w, alternative='greater', equal_var=False)"
   ]
  },
  {
   "cell_type": "code",
   "execution_count": 14,
   "id": "725e25f5",
   "metadata": {},
   "outputs": [
    {
     "name": "stdout",
     "output_type": "stream",
     "text": [
      "Установленный уровень статистической значимости: 0.05\n",
      "Значение p-value для наблюдаемого на выборке значения: 0.6798866865927702\n",
      "\n",
      "Нет оснований отвергнуть нулевую гипотезу\n"
     ]
    }
   ],
   "source": [
    "print(f'Установленный уровень статистической значимости: {alpha}')\n",
    "print(f'Значение p-value для наблюдаемого на выборке значения: {results_hip_1.pvalue}')\n",
    "print()\n",
    "if results_hip_1.pvalue < alpha:\n",
    "    print('Отвергаем нулевую гипотезу')\n",
    "else:\n",
    "    print('Нет оснований отвергнуть нулевую гипотезу')"
   ]
  },
  {
   "cell_type": "code",
   "execution_count": 15,
   "id": "c056fad0",
   "metadata": {},
   "outputs": [
    {
     "name": "stdout",
     "output_type": "stream",
     "text": [
      "Список характерных значений М:\n"
     ]
    },
    {
     "data": {
      "text/plain": [
       "count    115.000000\n",
       "mean       3.704348\n",
       "std        1.632853\n",
       "min        2.000000\n",
       "25%        2.000000\n",
       "50%        3.000000\n",
       "75%        4.000000\n",
       "max        8.000000\n",
       "Name: Количество больничных дней, dtype: float64"
      ]
     },
     "metadata": {},
     "output_type": "display_data"
    },
    {
     "name": "stdout",
     "output_type": "stream",
     "text": [
      "\n",
      "Список характерных значений Ж:\n"
     ]
    },
    {
     "data": {
      "text/plain": [
       "count    83.000000\n",
       "mean      3.807229\n",
       "std       1.443723\n",
       "min       2.000000\n",
       "25%       3.000000\n",
       "50%       4.000000\n",
       "75%       4.500000\n",
       "max       8.000000\n",
       "Name: Количество больничных дней, dtype: float64"
      ]
     },
     "metadata": {},
     "output_type": "display_data"
    }
   ],
   "source": [
    "print('Список характерных значений М:')\n",
    "display(test_m.describe())\n",
    "print()\n",
    "print('Список характерных значений Ж:')\n",
    "display(test_w.describe())"
   ]
  },
  {
   "cell_type": "markdown",
   "id": "a2b618c3",
   "metadata": {},
   "source": [
    "#### Вывод по итогу проверки гипотезы 1\n",
    "\n",
    "Нулевую гипотезу о том, мужчины пропускают в течение года более 2 рабочих дней по болезни столько же, сколько женщины, нельзя отвергнуть.\n",
    "\n",
    "Дополнительно, гипотезу о равенстве усиливает анализ списка характерных значений."
   ]
  },
  {
   "cell_type": "markdown",
   "id": "5ed02531",
   "metadata": {},
   "source": [
    "### Гипотеза 2"
   ]
  },
  {
   "cell_type": "markdown",
   "id": "ac3eb043",
   "metadata": {},
   "source": [
    "Работники старше 35 лет (age) пропускают в течение года более 2 рабочих дней (work_days) по болезни значимо чаще своих более молодых коллег.\n",
    "\n",
    "---\n",
    "\n",
    "- нулевая гипотеза - Работники старше 35 лет пропускают в течение года более 2 рабочих дней по болезни столько же, сколько их молодые коллеги.\n",
    "- альтернативная гипотеза - Работники старше 35 лет пропускают в течение года более 2 рабочих дней по болезни значимо чаще своих более молодых коллег.\n",
    "\n",
    "Используем метод `scipy.stats.ttest_ind()`, поскольку необходимо сравнить 2 набора данных, которые не зависят друг от друга."
   ]
  },
  {
   "cell_type": "markdown",
   "id": "a2e7be00",
   "metadata": {},
   "source": [
    "Юридически в день достижения 35-летнего возраста сотрудник попадает в группу «старше 35 лет». Таким образом 35 лет и 1 день/неделя/месяц – всё это старше 35 лет.\n"
   ]
  },
  {
   "cell_type": "code",
   "execution_count": 16,
   "id": "826494f5",
   "metadata": {},
   "outputs": [
    {
     "data": {
      "image/png": "[encoded data removed]",
      "text/plain": [
       "<Figure size 432x288 with 1 Axes>"
      ]
     },
     "metadata": {
      "needs_background": "light"
     },
     "output_type": "display_data"
    }
   ],
   "source": [
    "sns.histplot(data=df_hip.loc[df_hip['Возраст']>=age], x=\"Количество больничных дней\",\n",
    "             color=\"skyblue\", label=f\"Старше {age} лет\", stat='density', bins=9-work_days)\n",
    "sns.histplot(data=df_hip.loc[df_hip['Возраст']<age], x=\"Количество больничных дней\",\n",
    "             color=\"red\", label=f\"Младше {age} лет\", stat='density', bins=9-work_days)\n",
    "plt.legend() \n",
    "plt.title(\"График распределения сотрудников по возрасту\")\n",
    "plt.ylabel(' ')\n",
    "plt.xlabel('Количество больничных дней')\n",
    "plt.show()"
   ]
  },
  {
   "cell_type": "code",
   "execution_count": 17,
   "id": "442802d6",
   "metadata": {},
   "outputs": [],
   "source": [
    "alpha = 0.05 # уровень статистической значимости\n",
    "\n",
    "test_old = df_hip.loc[df_hip['Возраст']>=age]['Количество больничных дней']\n",
    "test_yng = df_hip.loc[df_hip['Возраст']<age]['Количество больничных дней']\n",
    "\n",
    "results_hip_2 = st.ttest_ind(test_old, test_yng, alternative='greater', equal_var=False)"
   ]
  },
  {
   "cell_type": "code",
   "execution_count": 18,
   "id": "f3c8a46c",
   "metadata": {},
   "outputs": [
    {
     "name": "stdout",
     "output_type": "stream",
     "text": [
      "Установленный уровень статистической значимости: 0.05\n",
      "Значение p-value для наблюдаемого на выборке значения: 0.6035313889320407\n",
      "\n",
      "Нет оснований отвергнуть нулевую гипотезу\n"
     ]
    }
   ],
   "source": [
    "print(f'Установленный уровень статистической значимости: {alpha}')\n",
    "print(f'Значение p-value для наблюдаемого на выборке значения: {results_hip_2.pvalue}')\n",
    "print()\n",
    "if results_hip_2.pvalue < alpha:\n",
    "    print('Отвергаем нулевую гипотезу')\n",
    "else:\n",
    "    print('Нет оснований отвергнуть нулевую гипотезу')"
   ]
  },
  {
   "cell_type": "code",
   "execution_count": 19,
   "id": "17199fcd",
   "metadata": {},
   "outputs": [
    {
     "name": "stdout",
     "output_type": "stream",
     "text": [
      "Список характерных значений сотрудников старше:\n"
     ]
    },
    {
     "data": {
      "text/plain": [
       "count    157.000000\n",
       "mean       3.732484\n",
       "std        1.554077\n",
       "min        2.000000\n",
       "25%        3.000000\n",
       "50%        3.000000\n",
       "75%        4.000000\n",
       "max        8.000000\n",
       "Name: Количество больничных дней, dtype: float64"
      ]
     },
     "metadata": {},
     "output_type": "display_data"
    },
    {
     "name": "stdout",
     "output_type": "stream",
     "text": [
      "\n",
      "Список характерных значений Ж:\n"
     ]
    },
    {
     "data": {
      "text/plain": [
       "count    41.000000\n",
       "mean      3.804878\n",
       "std       1.568750\n",
       "min       2.000000\n",
       "25%       3.000000\n",
       "50%       4.000000\n",
       "75%       4.000000\n",
       "max       8.000000\n",
       "Name: Количество больничных дней, dtype: float64"
      ]
     },
     "metadata": {},
     "output_type": "display_data"
    }
   ],
   "source": [
    "print(f'Список характерных значений сотрудников старше:')\n",
    "display(test_old.describe())\n",
    "print()\n",
    "print(f'Список характерных значений Ж:')\n",
    "display(test_yng.describe())"
   ]
  },
  {
   "cell_type": "markdown",
   "id": "c0375fb8",
   "metadata": {},
   "source": [
    "#### Вывод по итогу проверки гипотезы 2\n",
    "\n",
    "Нулевую гипотезу о том, работники старше 35 лет пропускают в течение года более 2 рабочих дней по болезни столько же, сколько их молодые коллеги, нельзя отвергнуть.\n",
    "\n",
    "Дополнительно, гипотезу о равенстве усиливает анализ списка характерных значений."
   ]
  },
  {
   "cell_type": "markdown",
   "id": "84489c88",
   "metadata": {},
   "source": [
    "## Итоговый вывод"
   ]
  },
  {
   "cell_type": "markdown",
   "id": "9ed3fa5a",
   "metadata": {},
   "source": [
    "Результаты исследования данных подтверждаются проверкой гипотиз с помощью т-тестов. Обе гипотзы не являются однозначиными и скорее подойдут гипотеры о равенстве значений для нашей выборки сотрудников."
   ]
  },
  {
   "cell_type": "code",
   "execution_count": null,
   "id": "8171b41f",
   "metadata": {},
   "outputs": [],
   "source": []
  },
  {
   "cell_type": "code",
   "execution_count": null,
   "id": "53fa04a3",
   "metadata": {},
   "outputs": [],
   "source": []
  }
 ],
 "metadata": {
  "kernelspec": {
   "display_name": "Python 3 (ipykernel)",
   "language": "python",
   "name": "python3"
  },
  "language_info": {
   "codemirror_mode": {
    "name": "ipython",
    "version": 3
   },
   "file_extension": ".py",
   "mimetype": "text/x-python",
   "name": "python",
   "nbconvert_exporter": "python",
   "pygments_lexer": "ipython3",
   "version": "3.9.5"
  },
  "toc": {
   "base_numbering": 1,
   "nav_menu": {},
   "number_sections": true,
   "sideBar": true,
   "skip_h1_title": true,
   "title_cell": "Table of Contents",
   "title_sidebar": "Contents",
   "toc_cell": true,
   "toc_position": {
    "height": "calc(100% - 180px)",
    "left": "10px",
    "top": "150px",
    "width": "415.99px"
   },
   "toc_section_display": true,
   "toc_window_display": true
  }
 },
 "nbformat": 4,
 "nbformat_minor": 5
}
